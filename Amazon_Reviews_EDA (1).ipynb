{
 "cells": [
  {
   "cell_type": "code",
   "execution_count": 25,
   "id": "0698456f",
   "metadata": {},
   "outputs": [],
   "source": [
    "import pandas as pd\n",
    "import json\n",
    "import gzip\n",
    "\n",
    "def parse(path):\n",
    "  g = gzip.open(path, 'rb')\n",
    "  for l in g:\n",
    "    yield json.loads(l)\n",
    "\n",
    "def getDF(path):\n",
    "  i = 0\n",
    "  df = {}\n",
    "  for d in parse(path):\n",
    "    df[i] = d\n",
    "    i += 1\n",
    "  return pd.DataFrame.from_dict(df, orient='index')\n",
    "\n",
    "df = getDF(\"/Users/madhumithaganta/Downloads/AMAZON_FASHION.json.gz\")"
   ]
  },
  {
   "cell_type": "code",
   "execution_count": 26,
   "id": "3c062998",
   "metadata": {},
   "outputs": [
    {
     "name": "stdout",
     "output_type": "stream",
     "text": [
      "   overall  verified   reviewTime      reviewerID        asin  \\\n",
      "0      5.0      True  10 20, 2014  A1D4G1SNUZWQOT  7106116521   \n",
      "1      2.0      True  09 28, 2014  A3DDWDH9PX2YX2  7106116521   \n",
      "2      4.0     False  08 25, 2014  A2MWC41EW7XL15  7106116521   \n",
      "3      2.0      True  08 24, 2014  A2UH2QQ275NV45  7106116521   \n",
      "4      3.0     False  07 27, 2014   A89F3LQADZBS5  7106116521   \n",
      "5      5.0      True  07 19, 2014  A29HLOUW0NS0EH  7106116521   \n",
      "6      4.0      True  05 31, 2014   A7QS961ROI6E0  7106116521   \n",
      "7      3.0      True  09 22, 2013  A1BB77SEBQT8VX  B00007GDFV   \n",
      "8      3.0      True  07 17, 2013   AHWOW7D1ABO9C  B00007GDFV   \n",
      "9      3.0      True  04 13, 2013   AKS3GULZE0HFC  B00007GDFV   \n",
      "\n",
      "         reviewerName                                         reviewText  \\\n",
      "0               Tracy                             Exactly what I needed.   \n",
      "1           Sonja Lau  I agree with the other review, the opening is ...   \n",
      "2            Kathleen  Love these... I am going to order another pack...   \n",
      "3         Jodi Stoner                                too tiny an opening   \n",
      "4        Alexander D.                                               Okay   \n",
      "5   Patricia R. Erwin                             Exactly what I wanted.   \n",
      "6    REBECCA S LAYTON  These little plastic backs work great.  No mor...   \n",
      "7  Darrow H Ankrum II  mother - in - law wanted it as a present for h...   \n",
      "8              rosieO  Item is of good quality. Looks great, too. But...   \n",
      "9          M. Waltman  I had used my last el-cheapo fake leather ciga...   \n",
      "\n",
      "                                             summary  unixReviewTime vote  \\\n",
      "0                             perfect replacements!!      1413763200  NaN   \n",
      "1  I agree with the other review, the opening is ...      1411862400    3   \n",
      "2                                My New 'Friends' !!      1408924800  NaN   \n",
      "3                                          Two Stars      1408838400  NaN   \n",
      "4                                        Three Stars      1406419200  NaN   \n",
      "5                                         Five Stars      1405728000  NaN   \n",
      "6                                       Works great!      1401494400  NaN   \n",
      "7                                bought as a present      1379808000  NaN   \n",
      "8                          Buxton heiress collection      1374019200  NaN   \n",
      "9                     Top Clasp Broke Within 3 days!      1365811200  NaN   \n",
      "\n",
      "                  style image  \n",
      "0                   NaN   NaN  \n",
      "1                   NaN   NaN  \n",
      "2                   NaN   NaN  \n",
      "3                   NaN   NaN  \n",
      "4                   NaN   NaN  \n",
      "5                   NaN   NaN  \n",
      "6                   NaN   NaN  \n",
      "7  {'Color:': ' Black'}   NaN  \n",
      "8  {'Color:': ' Black'}   NaN  \n",
      "9  {'Color:': ' Black'}   NaN  \n"
     ]
    }
   ],
   "source": [
    "print(df.head(10))  # Display the first few rows"
   ]
  },
  {
   "cell_type": "code",
   "execution_count": 27,
   "id": "253b2fb6",
   "metadata": {},
   "outputs": [
    {
     "name": "stdout",
     "output_type": "stream",
     "text": [
      "<class 'pandas.core.frame.DataFrame'>\n",
      "Index: 883636 entries, 0 to 883635\n",
      "Data columns (total 12 columns):\n",
      " #   Column          Non-Null Count   Dtype  \n",
      "---  ------          --------------   -----  \n",
      " 0   overall         883636 non-null  float64\n",
      " 1   verified        883636 non-null  bool   \n",
      " 2   reviewTime      883636 non-null  object \n",
      " 3   reviewerID      883636 non-null  object \n",
      " 4   asin            883636 non-null  object \n",
      " 5   reviewerName    883544 non-null  object \n",
      " 6   reviewText      882403 non-null  object \n",
      " 7   summary         883103 non-null  object \n",
      " 8   unixReviewTime  883636 non-null  int64  \n",
      " 9   vote            79900 non-null   object \n",
      " 10  style           304569 non-null  object \n",
      " 11  image           28807 non-null   object \n",
      "dtypes: bool(1), float64(1), int64(1), object(9)\n",
      "memory usage: 81.7+ MB\n",
      "None\n"
     ]
    }
   ],
   "source": [
    "print(df.info())  # Display information about the DataFrame"
   ]
  },
  {
   "cell_type": "code",
   "execution_count": 28,
   "id": "bfad1fa7",
   "metadata": {},
   "outputs": [
    {
     "name": "stdout",
     "output_type": "stream",
     "text": [
      "            overall  unixReviewTime\n",
      "count  883636.00000    8.836360e+05\n",
      "mean        3.90694    1.456751e+09\n",
      "std         1.41828    4.430691e+07\n",
      "min         1.00000    1.036973e+09\n",
      "25%         3.00000    1.434240e+09\n",
      "50%         5.00000    1.462234e+09\n",
      "75%         5.00000    1.484266e+09\n",
      "max         5.00000    1.538352e+09\n"
     ]
    }
   ],
   "source": [
    "print(df.describe())  # Display summary statistics"
   ]
  },
  {
   "cell_type": "code",
   "execution_count": 29,
   "id": "aa6d079a",
   "metadata": {},
   "outputs": [
    {
     "data": {
      "text/plain": [
       "overall                0\n",
       "verified               0\n",
       "reviewTime             0\n",
       "reviewerID             0\n",
       "asin                   0\n",
       "reviewerName          92\n",
       "reviewText          1233\n",
       "summary              533\n",
       "unixReviewTime         0\n",
       "vote              803736\n",
       "style             579067\n",
       "image             854829\n",
       "dtype: int64"
      ]
     },
     "execution_count": 29,
     "metadata": {},
     "output_type": "execute_result"
    }
   ],
   "source": [
    "df.isnull().sum()"
   ]
  },
  {
   "cell_type": "code",
   "execution_count": 30,
   "id": "f7311bf6",
   "metadata": {},
   "outputs": [
    {
     "data": {
      "text/plain": [
       "array([[<Axes: title={'center': 'overall'}>,\n",
       "        <Axes: title={'center': 'unixReviewTime'}>]], dtype=object)"
      ]
     },
     "execution_count": 30,
     "metadata": {},
     "output_type": "execute_result"
    },
    {
     "data": {
      "image/png": "[encoded data removed]",
      "text/plain": [
       "<Figure size 1000x1000 with 2 Axes>"
      ]
     },
     "metadata": {},
     "output_type": "display_data"
    }
   ],
   "source": [
    "df.hist(figsize=(10, 10))"
   ]
  },
  {
   "cell_type": "code",
   "execution_count": 31,
   "id": "4ca2efa1",
   "metadata": {},
   "outputs": [
    {
     "data": {
      "image/png": "[encoded data removed]",
      "text/plain": [
       "<Figure size 800x600 with 1 Axes>"
      ]
     },
     "metadata": {},
     "output_type": "display_data"
    }
   ],
   "source": [
    "import matplotlib.pyplot as plt\n",
    "\n",
    "# Plotting the distribution of ratings using a histogram\n",
    "plt.figure(figsize=(8, 6))\n",
    "plt.hist(df['overall'], bins=5, color='skyblue', edgecolor='black')\n",
    "plt.xlabel('Rating')\n",
    "plt.ylabel('Frequency')\n",
    "plt.title('Distribution of Ratings')\n",
    "plt.show()"
   ]
  },
  {
   "cell_type": "code",
   "execution_count": 32,
   "id": "3ccf5346",
   "metadata": {},
   "outputs": [],
   "source": [
    "sampled_df = df.sample(frac=0.1)"
   ]
  },
  {
   "cell_type": "code",
   "execution_count": 33,
   "id": "d01c7940",
   "metadata": {},
   "outputs": [],
   "source": [
    "# Calculate average rating per product for the sampled data\n",
    "avg_rating_per_product_sampled = sampled_df.groupby('asin')['overall'].mean()\n"
   ]
  },
  {
   "cell_type": "code",
   "execution_count": 34,
   "id": "a691414f",
   "metadata": {},
   "outputs": [
    {
     "name": "stdout",
     "output_type": "stream",
     "text": [
      "asin\n",
      "1942705034    5.00\n",
      "3293015344    3.00\n",
      "9654263246    2.00\n",
      "B00005OTJ8    5.00\n",
      "B000072WTB    2.00\n",
      "              ... \n",
      "B01HJB30HC    3.00\n",
      "B01HJEOB1I    1.00\n",
      "B01HJFD866    1.00\n",
      "B01HJGJ9LS    2.25\n",
      "B01HJHTH5U    5.00\n",
      "Name: overall, Length: 42495, dtype: float64\n"
     ]
    }
   ],
   "source": [
    "# Print the average rating per product\n",
    "print(avg_rating_per_product_sampled)"
   ]
  },
  {
   "cell_type": "code",
   "execution_count": 35,
   "id": "7b613eba",
   "metadata": {},
   "outputs": [
    {
     "name": "stdout",
     "output_type": "stream",
     "text": [
      "             asin  average_rating\n",
      "0      1942705034            5.00\n",
      "1      3293015344            3.00\n",
      "2      9654263246            2.00\n",
      "3      B00005OTJ8            5.00\n",
      "4      B000072WTB            2.00\n",
      "...           ...             ...\n",
      "42490  B01HJB30HC            3.00\n",
      "42491  B01HJEOB1I            1.00\n",
      "42492  B01HJFD866            1.00\n",
      "42493  B01HJGJ9LS            2.25\n",
      "42494  B01HJHTH5U            5.00\n",
      "\n",
      "[42495 rows x 2 columns]\n"
     ]
    }
   ],
   "source": [
    "# Convert to DataFrame and display\n",
    "avg_rating_per_product_df = avg_rating_per_product_sampled.reset_index(name='average_rating')\n",
    "print(avg_rating_per_product_df)"
   ]
  },
  {
   "cell_type": "code",
   "execution_count": 36,
   "id": "9b00d519",
   "metadata": {},
   "outputs": [
    {
     "name": "stdout",
     "output_type": "stream",
     "text": [
      "The most common average rating is: 5.0\n"
     ]
    }
   ],
   "source": [
    "# Find the most common average rating\n",
    "most_common_rating = avg_rating_per_product_df['average_rating'].value_counts().idxmax()\n",
    "\n",
    "print(\"The most common average rating is:\", most_common_rating)"
   ]
  },
  {
   "cell_type": "code",
   "execution_count": 37,
   "id": "65f3f6e9",
   "metadata": {},
   "outputs": [],
   "source": [
    "average_rating_per_reviewer_sampled = sampled_df.groupby('reviewerID')['overall'].mean().reset_index()"
   ]
  },
  {
   "cell_type": "code",
   "execution_count": 38,
   "id": "58c123b6",
   "metadata": {},
   "outputs": [
    {
     "name": "stdout",
     "output_type": "stream",
     "text": [
      "                 reviewerID  overall\n",
      "0      A0007604Q2582KFW7N4B      5.0\n",
      "1      A00248626G99Y8GVGKKQ      5.0\n",
      "2      A0024936S1WI02OHH9DP      3.0\n",
      "3      A00467084GHA3IAFG5WL      3.0\n",
      "4      A0054271FXCGYGCKW9TH      3.5\n",
      "...                     ...      ...\n",
      "86364         AZZRKTO8KKHWL      4.0\n",
      "86365         AZZT1ERHBSNQ8      3.0\n",
      "86366         AZZWZWNGTHR2Z      2.0\n",
      "86367         AZZXENCJHSM6H      2.0\n",
      "86368         AZZY4Y48JMYGF      1.0\n",
      "\n",
      "[86369 rows x 2 columns]\n"
     ]
    }
   ],
   "source": [
    "# Print the average rating per product\n",
    "print(average_rating_per_reviewer_sampled)"
   ]
  },
  {
   "cell_type": "code",
   "execution_count": 39,
   "id": "2820e786",
   "metadata": {},
   "outputs": [],
   "source": [
    "# Convert 'unixReviewTime' to timestamp if needed\n",
    "df['reviewTime'] = pd.to_datetime(df['unixReviewTime'], unit='s')\n",
    "\n",
    "# Extract time features\n",
    "df['year'] = df['reviewTime'].dt.year\n",
    "df['month'] = df['reviewTime'].dt.month\n",
    "df['day'] = df['reviewTime'].dt.day\n",
    "df['day_of_week'] = df['reviewTime'].dt.dayofweek  # Monday=0, Sunday=6\n"
   ]
  },
  {
   "cell_type": "code",
   "execution_count": 40,
   "id": "98ec66f9",
   "metadata": {},
   "outputs": [
    {
     "name": "stdout",
     "output_type": "stream",
     "text": [
      "        overall  verified reviewTime      reviewerID        asin  \\\n",
      "883631      5.0      True 2017-02-21  A1ZSB2Q144UTEY  B01HJHTH5U   \n",
      "883632      5.0      True 2016-11-25  A2CCDV0J5VB6F2  B01HJHTH5U   \n",
      "883633      3.0      True 2016-11-10  A3O90PACS7B61K  B01HJHTH5U   \n",
      "883634      3.0      True 2016-11-10  A2HO94I89U3LNH  B01HJHF97K   \n",
      "883635      5.0      True 2016-08-09  A2RSX9E79DUHRX  B01HJG5NMW   \n",
      "\n",
      "               reviewerName  \\\n",
      "883631      Amazon Customer   \n",
      "883632      Amazon Customer   \n",
      "883633             Fabfifty   \n",
      "883634               Mgomez   \n",
      "883635  Natasha Mascarenhas   \n",
      "\n",
      "                                               reviewText  \\\n",
      "883631  I absolutely love this dress!!  It's sexy and ...   \n",
      "883632  I'm 5'6 175lbs. I'm on the tall side. I wear a...   \n",
      "883633                         Too big in the chest area!   \n",
      "883634                Too clear in the back, needs lining   \n",
      "883635  Ordered and was slightly small. Worked with th...   \n",
      "\n",
      "                                                  summary  unixReviewTime  \\\n",
      "883631                       I absolutely love this dress      1487635200   \n",
      "883632  I wear a large and ordered a large and it stil...      1480032000   \n",
      "883633                                        Three Stars      1478736000   \n",
      "883634                                        Three Stars      1478736000   \n",
      "883635         The quality is excellent and it is so cute      1470700800   \n",
      "\n",
      "       vote style image  year  month  day  day_of_week  \n",
      "883631  NaN   NaN   NaN  2017      2   21            1  \n",
      "883632    2   NaN   NaN  2016     11   25            4  \n",
      "883633  NaN   NaN   NaN  2016     11   10            3  \n",
      "883634  NaN   NaN   NaN  2016     11   10            3  \n",
      "883635  NaN   NaN   NaN  2016      8    9            1  \n"
     ]
    }
   ],
   "source": [
    "# Display the DataFrame with time features\n",
    "print(df.tail())"
   ]
  },
  {
   "cell_type": "code",
   "execution_count": 21,
   "id": "d3291ccb",
   "metadata": {},
   "outputs": [
    {
     "name": "stdout",
     "output_type": "stream",
     "text": [
      "Requirement already satisfied: nltk in ./anaconda3/lib/python3.11/site-packages (3.8.1)\n",
      "Requirement already satisfied: click in ./anaconda3/lib/python3.11/site-packages (from nltk) (8.0.4)\n",
      "Requirement already satisfied: joblib in ./anaconda3/lib/python3.11/site-packages (from nltk) (1.2.0)\n",
      "Requirement already satisfied: regex>=2021.8.3 in ./anaconda3/lib/python3.11/site-packages (from nltk) (2022.7.9)\n",
      "Requirement already satisfied: tqdm in ./anaconda3/lib/python3.11/site-packages (from nltk) (4.65.0)\n",
      "Note: you may need to restart the kernel to use updated packages.\n"
     ]
    }
   ],
   "source": [
    "pip install nltk"
   ]
  },
  {
   "cell_type": "code",
   "execution_count": 22,
   "id": "4225ad1f",
   "metadata": {},
   "outputs": [
    {
     "ename": "LookupError",
     "evalue": "\n**********************************************************************\n  Resource \u001b[93mstopwords\u001b[0m not found.\n  Please use the NLTK Downloader to obtain the resource:\n\n  \u001b[31m>>> import nltk\n  >>> nltk.download('stopwords')\n  \u001b[0m\n  For more information see: https://www.nltk.org/data.html\n\n  Attempted to load \u001b[93mcorpora/stopwords\u001b[0m\n\n  Searched in:\n    - '/Users/madhumithaganta/nltk_data'\n    - '/Users/madhumithaganta/anaconda3/nltk_data'\n    - '/Users/madhumithaganta/anaconda3/share/nltk_data'\n    - '/Users/madhumithaganta/anaconda3/lib/nltk_data'\n    - '/usr/share/nltk_data'\n    - '/usr/local/share/nltk_data'\n    - '/usr/lib/nltk_data'\n    - '/usr/local/lib/nltk_data'\n**********************************************************************\n",
     "output_type": "error",
     "traceback": [
      "\u001b[0;31m---------------------------------------------------------------------------\u001b[0m",
      "\u001b[0;31mLookupError\u001b[0m                               Traceback (most recent call last)",
      "File \u001b[0;32m~/anaconda3/lib/python3.11/site-packages/nltk/corpus/util.py:84\u001b[0m, in \u001b[0;36mLazyCorpusLoader.__load\u001b[0;34m(self)\u001b[0m\n\u001b[1;32m     83\u001b[0m \u001b[38;5;28;01mtry\u001b[39;00m:\n\u001b[0;32m---> 84\u001b[0m     root \u001b[38;5;241m=\u001b[39m nltk\u001b[38;5;241m.\u001b[39mdata\u001b[38;5;241m.\u001b[39mfind(\u001b[38;5;124mf\u001b[39m\u001b[38;5;124m\"\u001b[39m\u001b[38;5;132;01m{\u001b[39;00m\u001b[38;5;28mself\u001b[39m\u001b[38;5;241m.\u001b[39msubdir\u001b[38;5;132;01m}\u001b[39;00m\u001b[38;5;124m/\u001b[39m\u001b[38;5;132;01m{\u001b[39;00mzip_name\u001b[38;5;132;01m}\u001b[39;00m\u001b[38;5;124m\"\u001b[39m)\n\u001b[1;32m     85\u001b[0m \u001b[38;5;28;01mexcept\u001b[39;00m \u001b[38;5;167;01mLookupError\u001b[39;00m:\n",
      "File \u001b[0;32m~/anaconda3/lib/python3.11/site-packages/nltk/data.py:583\u001b[0m, in \u001b[0;36mfind\u001b[0;34m(resource_name, paths)\u001b[0m\n\u001b[1;32m    582\u001b[0m resource_not_found \u001b[38;5;241m=\u001b[39m \u001b[38;5;124mf\u001b[39m\u001b[38;5;124m\"\u001b[39m\u001b[38;5;130;01m\\n\u001b[39;00m\u001b[38;5;132;01m{\u001b[39;00msep\u001b[38;5;132;01m}\u001b[39;00m\u001b[38;5;130;01m\\n\u001b[39;00m\u001b[38;5;132;01m{\u001b[39;00mmsg\u001b[38;5;132;01m}\u001b[39;00m\u001b[38;5;130;01m\\n\u001b[39;00m\u001b[38;5;132;01m{\u001b[39;00msep\u001b[38;5;132;01m}\u001b[39;00m\u001b[38;5;130;01m\\n\u001b[39;00m\u001b[38;5;124m\"\u001b[39m\n\u001b[0;32m--> 583\u001b[0m \u001b[38;5;28;01mraise\u001b[39;00m \u001b[38;5;167;01mLookupError\u001b[39;00m(resource_not_found)\n",
      "\u001b[0;31mLookupError\u001b[0m: \n**********************************************************************\n  Resource \u001b[93mstopwords\u001b[0m not found.\n  Please use the NLTK Downloader to obtain the resource:\n\n  \u001b[31m>>> import nltk\n  >>> nltk.download('stopwords')\n  \u001b[0m\n  For more information see: https://www.nltk.org/data.html\n\n  Attempted to load \u001b[93mcorpora/stopwords.zip/stopwords/\u001b[0m\n\n  Searched in:\n    - '/Users/madhumithaganta/nltk_data'\n    - '/Users/madhumithaganta/anaconda3/nltk_data'\n    - '/Users/madhumithaganta/anaconda3/share/nltk_data'\n    - '/Users/madhumithaganta/anaconda3/lib/nltk_data'\n    - '/usr/share/nltk_data'\n    - '/usr/local/share/nltk_data'\n    - '/usr/lib/nltk_data'\n    - '/usr/local/lib/nltk_data'\n**********************************************************************\n",
      "\nDuring handling of the above exception, another exception occurred:\n",
      "\u001b[0;31mLookupError\u001b[0m                               Traceback (most recent call last)",
      "Cell \u001b[0;32mIn[22], line 6\u001b[0m\n\u001b[1;32m      3\u001b[0m \u001b[38;5;28;01mfrom\u001b[39;00m \u001b[38;5;21;01mnltk\u001b[39;00m\u001b[38;5;21;01m.\u001b[39;00m\u001b[38;5;21;01mtokenize\u001b[39;00m \u001b[38;5;28;01mimport\u001b[39;00m word_tokenize\n\u001b[1;32m      4\u001b[0m \u001b[38;5;28;01mfrom\u001b[39;00m \u001b[38;5;21;01mnltk\u001b[39;00m\u001b[38;5;21;01m.\u001b[39;00m\u001b[38;5;21;01mstem\u001b[39;00m \u001b[38;5;28;01mimport\u001b[39;00m PorterStemmer\n\u001b[0;32m----> 6\u001b[0m stop_words \u001b[38;5;241m=\u001b[39m \u001b[38;5;28mset\u001b[39m(stopwords\u001b[38;5;241m.\u001b[39mwords(\u001b[38;5;124m'\u001b[39m\u001b[38;5;124menglish\u001b[39m\u001b[38;5;124m'\u001b[39m))\n\u001b[1;32m      7\u001b[0m porter \u001b[38;5;241m=\u001b[39m PorterStemmer()\n\u001b[1;32m      9\u001b[0m \u001b[38;5;28;01mdef\u001b[39;00m \u001b[38;5;21mpreprocess_text\u001b[39m(text):\n",
      "File \u001b[0;32m~/anaconda3/lib/python3.11/site-packages/nltk/corpus/util.py:121\u001b[0m, in \u001b[0;36mLazyCorpusLoader.__getattr__\u001b[0;34m(self, attr)\u001b[0m\n\u001b[1;32m    118\u001b[0m \u001b[38;5;28;01mif\u001b[39;00m attr \u001b[38;5;241m==\u001b[39m \u001b[38;5;124m\"\u001b[39m\u001b[38;5;124m__bases__\u001b[39m\u001b[38;5;124m\"\u001b[39m:\n\u001b[1;32m    119\u001b[0m     \u001b[38;5;28;01mraise\u001b[39;00m \u001b[38;5;167;01mAttributeError\u001b[39;00m(\u001b[38;5;124m\"\u001b[39m\u001b[38;5;124mLazyCorpusLoader object has no attribute \u001b[39m\u001b[38;5;124m'\u001b[39m\u001b[38;5;124m__bases__\u001b[39m\u001b[38;5;124m'\u001b[39m\u001b[38;5;124m\"\u001b[39m)\n\u001b[0;32m--> 121\u001b[0m \u001b[38;5;28mself\u001b[39m\u001b[38;5;241m.\u001b[39m__load()\n\u001b[1;32m    122\u001b[0m \u001b[38;5;66;03m# This looks circular, but its not, since __load() changes our\u001b[39;00m\n\u001b[1;32m    123\u001b[0m \u001b[38;5;66;03m# __class__ to something new:\u001b[39;00m\n\u001b[1;32m    124\u001b[0m \u001b[38;5;28;01mreturn\u001b[39;00m \u001b[38;5;28mgetattr\u001b[39m(\u001b[38;5;28mself\u001b[39m, attr)\n",
      "File \u001b[0;32m~/anaconda3/lib/python3.11/site-packages/nltk/corpus/util.py:86\u001b[0m, in \u001b[0;36mLazyCorpusLoader.__load\u001b[0;34m(self)\u001b[0m\n\u001b[1;32m     84\u001b[0m             root \u001b[38;5;241m=\u001b[39m nltk\u001b[38;5;241m.\u001b[39mdata\u001b[38;5;241m.\u001b[39mfind(\u001b[38;5;124mf\u001b[39m\u001b[38;5;124m\"\u001b[39m\u001b[38;5;132;01m{\u001b[39;00m\u001b[38;5;28mself\u001b[39m\u001b[38;5;241m.\u001b[39msubdir\u001b[38;5;132;01m}\u001b[39;00m\u001b[38;5;124m/\u001b[39m\u001b[38;5;132;01m{\u001b[39;00mzip_name\u001b[38;5;132;01m}\u001b[39;00m\u001b[38;5;124m\"\u001b[39m)\n\u001b[1;32m     85\u001b[0m         \u001b[38;5;28;01mexcept\u001b[39;00m \u001b[38;5;167;01mLookupError\u001b[39;00m:\n\u001b[0;32m---> 86\u001b[0m             \u001b[38;5;28;01mraise\u001b[39;00m e\n\u001b[1;32m     88\u001b[0m \u001b[38;5;66;03m# Load the corpus.\u001b[39;00m\n\u001b[1;32m     89\u001b[0m corpus \u001b[38;5;241m=\u001b[39m \u001b[38;5;28mself\u001b[39m\u001b[38;5;241m.\u001b[39m__reader_cls(root, \u001b[38;5;241m*\u001b[39m\u001b[38;5;28mself\u001b[39m\u001b[38;5;241m.\u001b[39m__args, \u001b[38;5;241m*\u001b[39m\u001b[38;5;241m*\u001b[39m\u001b[38;5;28mself\u001b[39m\u001b[38;5;241m.\u001b[39m__kwargs)\n",
      "File \u001b[0;32m~/anaconda3/lib/python3.11/site-packages/nltk/corpus/util.py:81\u001b[0m, in \u001b[0;36mLazyCorpusLoader.__load\u001b[0;34m(self)\u001b[0m\n\u001b[1;32m     79\u001b[0m \u001b[38;5;28;01melse\u001b[39;00m:\n\u001b[1;32m     80\u001b[0m     \u001b[38;5;28;01mtry\u001b[39;00m:\n\u001b[0;32m---> 81\u001b[0m         root \u001b[38;5;241m=\u001b[39m nltk\u001b[38;5;241m.\u001b[39mdata\u001b[38;5;241m.\u001b[39mfind(\u001b[38;5;124mf\u001b[39m\u001b[38;5;124m\"\u001b[39m\u001b[38;5;132;01m{\u001b[39;00m\u001b[38;5;28mself\u001b[39m\u001b[38;5;241m.\u001b[39msubdir\u001b[38;5;132;01m}\u001b[39;00m\u001b[38;5;124m/\u001b[39m\u001b[38;5;132;01m{\u001b[39;00m\u001b[38;5;28mself\u001b[39m\u001b[38;5;241m.\u001b[39m__name\u001b[38;5;132;01m}\u001b[39;00m\u001b[38;5;124m\"\u001b[39m)\n\u001b[1;32m     82\u001b[0m     \u001b[38;5;28;01mexcept\u001b[39;00m \u001b[38;5;167;01mLookupError\u001b[39;00m \u001b[38;5;28;01mas\u001b[39;00m e:\n\u001b[1;32m     83\u001b[0m         \u001b[38;5;28;01mtry\u001b[39;00m:\n",
      "File \u001b[0;32m~/anaconda3/lib/python3.11/site-packages/nltk/data.py:583\u001b[0m, in \u001b[0;36mfind\u001b[0;34m(resource_name, paths)\u001b[0m\n\u001b[1;32m    581\u001b[0m sep \u001b[38;5;241m=\u001b[39m \u001b[38;5;124m\"\u001b[39m\u001b[38;5;124m*\u001b[39m\u001b[38;5;124m\"\u001b[39m \u001b[38;5;241m*\u001b[39m \u001b[38;5;241m70\u001b[39m\n\u001b[1;32m    582\u001b[0m resource_not_found \u001b[38;5;241m=\u001b[39m \u001b[38;5;124mf\u001b[39m\u001b[38;5;124m\"\u001b[39m\u001b[38;5;130;01m\\n\u001b[39;00m\u001b[38;5;132;01m{\u001b[39;00msep\u001b[38;5;132;01m}\u001b[39;00m\u001b[38;5;130;01m\\n\u001b[39;00m\u001b[38;5;132;01m{\u001b[39;00mmsg\u001b[38;5;132;01m}\u001b[39;00m\u001b[38;5;130;01m\\n\u001b[39;00m\u001b[38;5;132;01m{\u001b[39;00msep\u001b[38;5;132;01m}\u001b[39;00m\u001b[38;5;130;01m\\n\u001b[39;00m\u001b[38;5;124m\"\u001b[39m\n\u001b[0;32m--> 583\u001b[0m \u001b[38;5;28;01mraise\u001b[39;00m \u001b[38;5;167;01mLookupError\u001b[39;00m(resource_not_found)\n",
      "\u001b[0;31mLookupError\u001b[0m: \n**********************************************************************\n  Resource \u001b[93mstopwords\u001b[0m not found.\n  Please use the NLTK Downloader to obtain the resource:\n\n  \u001b[31m>>> import nltk\n  >>> nltk.download('stopwords')\n  \u001b[0m\n  For more information see: https://www.nltk.org/data.html\n\n  Attempted to load \u001b[93mcorpora/stopwords\u001b[0m\n\n  Searched in:\n    - '/Users/madhumithaganta/nltk_data'\n    - '/Users/madhumithaganta/anaconda3/nltk_data'\n    - '/Users/madhumithaganta/anaconda3/share/nltk_data'\n    - '/Users/madhumithaganta/anaconda3/lib/nltk_data'\n    - '/usr/share/nltk_data'\n    - '/usr/local/share/nltk_data'\n    - '/usr/lib/nltk_data'\n    - '/usr/local/lib/nltk_data'\n**********************************************************************\n"
     ]
    }
   ],
   "source": [
    "import nltk\n",
    "from nltk.corpus import stopwords\n",
    "from nltk.tokenize import word_tokenize\n",
    "from nltk.stem import PorterStemmer\n",
    "\n",
    "stop_words = set(stopwords.words('english'))\n",
    "porter = PorterStemmer()\n",
    "\n",
    "def preprocess_text(text):\n",
    "    if isinstance(text, str):  # Check if the text is a string\n",
    "        tokens = word_tokenize(text.lower())  # Tokenization and lowercase\n",
    "        filtered_tokens = [porter.stem(token) for token in tokens if token.isalpha() and token not in stop_words]  # Stemming and removing stopwords\n",
    "        return ' '.join(filtered_tokens)\n",
    "    else:\n",
    "        return ''\n",
    "\n",
    "df['processed_text'] = df['reviewText'].apply(preprocess_text)"
   ]
  },
  {
   "cell_type": "code",
   "execution_count": 23,
   "id": "af960e3f",
   "metadata": {},
   "outputs": [
    {
     "ename": "ModuleNotFoundError",
     "evalue": "No module named 'wordcloud'",
     "output_type": "error",
     "traceback": [
      "\u001b[0;31m---------------------------------------------------------------------------\u001b[0m",
      "\u001b[0;31mModuleNotFoundError\u001b[0m                       Traceback (most recent call last)",
      "Cell \u001b[0;32mIn[23], line 1\u001b[0m\n\u001b[0;32m----> 1\u001b[0m \u001b[38;5;28;01mfrom\u001b[39;00m \u001b[38;5;21;01mwordcloud\u001b[39;00m \u001b[38;5;28;01mimport\u001b[39;00m WordCloud\n\u001b[1;32m      2\u001b[0m \u001b[38;5;28;01mimport\u001b[39;00m \u001b[38;5;21;01mmatplotlib\u001b[39;00m\u001b[38;5;21;01m.\u001b[39;00m\u001b[38;5;21;01mpyplot\u001b[39;00m \u001b[38;5;28;01mas\u001b[39;00m \u001b[38;5;21;01mplt\u001b[39;00m\n\u001b[1;32m      4\u001b[0m \u001b[38;5;66;03m# Assuming you have a DataFrame 'df' with a column 'processed_text' containing processed text data\u001b[39;00m\n\u001b[1;32m      5\u001b[0m \n\u001b[1;32m      6\u001b[0m \u001b[38;5;66;03m# Concatenate all processed text into a single string\u001b[39;00m\n",
      "\u001b[0;31mModuleNotFoundError\u001b[0m: No module named 'wordcloud'"
     ]
    }
   ],
   "source": [
    "from wordcloud import WordCloud\n",
    "import matplotlib.pyplot as plt\n",
    "\n",
    "# Assuming you have a DataFrame 'df' with a column 'processed_text' containing processed text data\n",
    "\n",
    "# Concatenate all processed text into a single string\n",
    "all_text = ' '.join(df['processed_text'].dropna())\n",
    "\n",
    "# Generate word cloud\n",
    "wordcloud = WordCloud(width=800, height=400, background_color='white').generate(all_text)\n",
    "\n",
    "# Plot the word cloud\n",
    "plt.figure(figsize=(10, 5))\n",
    "plt.imshow(wordcloud, interpolation='bilinear')\n",
    "plt.axis('off')  # Remove axis\n",
    "plt.title('Word Cloud of Most Frequent Words')\n",
    "plt.show()"
   ]
  },
  {
   "cell_type": "code",
   "execution_count": 24,
   "id": "90349263",
   "metadata": {},
   "outputs": [
    {
     "ename": "KeyError",
     "evalue": "'processed_text'",
     "output_type": "error",
     "traceback": [
      "\u001b[0;31m---------------------------------------------------------------------------\u001b[0m",
      "\u001b[0;31mKeyError\u001b[0m                                  Traceback (most recent call last)",
      "File \u001b[0;32m~/anaconda3/lib/python3.11/site-packages/pandas/core/indexes/base.py:3653\u001b[0m, in \u001b[0;36mIndex.get_loc\u001b[0;34m(self, key)\u001b[0m\n\u001b[1;32m   3652\u001b[0m \u001b[38;5;28;01mtry\u001b[39;00m:\n\u001b[0;32m-> 3653\u001b[0m     \u001b[38;5;28;01mreturn\u001b[39;00m \u001b[38;5;28mself\u001b[39m\u001b[38;5;241m.\u001b[39m_engine\u001b[38;5;241m.\u001b[39mget_loc(casted_key)\n\u001b[1;32m   3654\u001b[0m \u001b[38;5;28;01mexcept\u001b[39;00m \u001b[38;5;167;01mKeyError\u001b[39;00m \u001b[38;5;28;01mas\u001b[39;00m err:\n",
      "File \u001b[0;32m~/anaconda3/lib/python3.11/site-packages/pandas/_libs/index.pyx:147\u001b[0m, in \u001b[0;36mpandas._libs.index.IndexEngine.get_loc\u001b[0;34m()\u001b[0m\n",
      "File \u001b[0;32m~/anaconda3/lib/python3.11/site-packages/pandas/_libs/index.pyx:176\u001b[0m, in \u001b[0;36mpandas._libs.index.IndexEngine.get_loc\u001b[0;34m()\u001b[0m\n",
      "File \u001b[0;32mpandas/_libs/hashtable_class_helper.pxi:7080\u001b[0m, in \u001b[0;36mpandas._libs.hashtable.PyObjectHashTable.get_item\u001b[0;34m()\u001b[0m\n",
      "File \u001b[0;32mpandas/_libs/hashtable_class_helper.pxi:7088\u001b[0m, in \u001b[0;36mpandas._libs.hashtable.PyObjectHashTable.get_item\u001b[0;34m()\u001b[0m\n",
      "\u001b[0;31mKeyError\u001b[0m: 'processed_text'",
      "\nThe above exception was the direct cause of the following exception:\n",
      "\u001b[0;31mKeyError\u001b[0m                                  Traceback (most recent call last)",
      "Cell \u001b[0;32mIn[24], line 9\u001b[0m\n\u001b[1;32m      6\u001b[0m tfidf_vectorizer \u001b[38;5;241m=\u001b[39m TfidfVectorizer(max_features\u001b[38;5;241m=\u001b[39m\u001b[38;5;241m1000\u001b[39m)  \u001b[38;5;66;03m# You can adjust max_features as needed\u001b[39;00m\n\u001b[1;32m      8\u001b[0m \u001b[38;5;66;03m# Fit and transform the processed text data\u001b[39;00m\n\u001b[0;32m----> 9\u001b[0m tfidf_matrix \u001b[38;5;241m=\u001b[39m tfidf_vectorizer\u001b[38;5;241m.\u001b[39mfit_transform(df[\u001b[38;5;124m'\u001b[39m\u001b[38;5;124mprocessed_text\u001b[39m\u001b[38;5;124m'\u001b[39m]\u001b[38;5;241m.\u001b[39mdropna())\n\u001b[1;32m     11\u001b[0m \u001b[38;5;66;03m# Get feature names (words) from the TF-IDF vectorizer\u001b[39;00m\n\u001b[1;32m     12\u001b[0m feature_names \u001b[38;5;241m=\u001b[39m tfidf_vectorizer\u001b[38;5;241m.\u001b[39mget_feature_names_out()\n",
      "File \u001b[0;32m~/anaconda3/lib/python3.11/site-packages/pandas/core/frame.py:3761\u001b[0m, in \u001b[0;36mDataFrame.__getitem__\u001b[0;34m(self, key)\u001b[0m\n\u001b[1;32m   3759\u001b[0m \u001b[38;5;28;01mif\u001b[39;00m \u001b[38;5;28mself\u001b[39m\u001b[38;5;241m.\u001b[39mcolumns\u001b[38;5;241m.\u001b[39mnlevels \u001b[38;5;241m>\u001b[39m \u001b[38;5;241m1\u001b[39m:\n\u001b[1;32m   3760\u001b[0m     \u001b[38;5;28;01mreturn\u001b[39;00m \u001b[38;5;28mself\u001b[39m\u001b[38;5;241m.\u001b[39m_getitem_multilevel(key)\n\u001b[0;32m-> 3761\u001b[0m indexer \u001b[38;5;241m=\u001b[39m \u001b[38;5;28mself\u001b[39m\u001b[38;5;241m.\u001b[39mcolumns\u001b[38;5;241m.\u001b[39mget_loc(key)\n\u001b[1;32m   3762\u001b[0m \u001b[38;5;28;01mif\u001b[39;00m is_integer(indexer):\n\u001b[1;32m   3763\u001b[0m     indexer \u001b[38;5;241m=\u001b[39m [indexer]\n",
      "File \u001b[0;32m~/anaconda3/lib/python3.11/site-packages/pandas/core/indexes/base.py:3655\u001b[0m, in \u001b[0;36mIndex.get_loc\u001b[0;34m(self, key)\u001b[0m\n\u001b[1;32m   3653\u001b[0m     \u001b[38;5;28;01mreturn\u001b[39;00m \u001b[38;5;28mself\u001b[39m\u001b[38;5;241m.\u001b[39m_engine\u001b[38;5;241m.\u001b[39mget_loc(casted_key)\n\u001b[1;32m   3654\u001b[0m \u001b[38;5;28;01mexcept\u001b[39;00m \u001b[38;5;167;01mKeyError\u001b[39;00m \u001b[38;5;28;01mas\u001b[39;00m err:\n\u001b[0;32m-> 3655\u001b[0m     \u001b[38;5;28;01mraise\u001b[39;00m \u001b[38;5;167;01mKeyError\u001b[39;00m(key) \u001b[38;5;28;01mfrom\u001b[39;00m \u001b[38;5;21;01merr\u001b[39;00m\n\u001b[1;32m   3656\u001b[0m \u001b[38;5;28;01mexcept\u001b[39;00m \u001b[38;5;167;01mTypeError\u001b[39;00m:\n\u001b[1;32m   3657\u001b[0m     \u001b[38;5;66;03m# If we have a listlike key, _check_indexing_error will raise\u001b[39;00m\n\u001b[1;32m   3658\u001b[0m     \u001b[38;5;66;03m#  InvalidIndexError. Otherwise we fall through and re-raise\u001b[39;00m\n\u001b[1;32m   3659\u001b[0m     \u001b[38;5;66;03m#  the TypeError.\u001b[39;00m\n\u001b[1;32m   3660\u001b[0m     \u001b[38;5;28mself\u001b[39m\u001b[38;5;241m.\u001b[39m_check_indexing_error(key)\n",
      "\u001b[0;31mKeyError\u001b[0m: 'processed_text'"
     ]
    }
   ],
   "source": [
    "from sklearn.feature_extraction.text import TfidfVectorizer\n",
    "\n",
    "# Assuming you have a DataFrame 'df' with a column 'processed_text' containing processed text data\n",
    "\n",
    "# Initialize TF-IDF vectorizer\n",
    "tfidf_vectorizer = TfidfVectorizer(max_features=1000)  # You can adjust max_features as needed\n",
    "\n",
    "# Fit and transform the processed text data\n",
    "tfidf_matrix = tfidf_vectorizer.fit_transform(df['processed_text'].dropna())\n",
    "\n",
    "# Get feature names (words) from the TF-IDF vectorizer\n",
    "feature_names = tfidf_vectorizer.get_feature_names_out()\n",
    "\n",
    "# Print the top keywords based on TF-IDF scores\n",
    "top_keywords = sorted(zip(feature_names, tfidf_matrix.sum(axis=0).flat), key=lambda x: x[1], reverse=True)[:10]\n",
    "print(top_keywords)"
   ]
  },
  {
   "cell_type": "code",
   "execution_count": 20,
   "id": "0c688cf7",
   "metadata": {},
   "outputs": [
    {
     "data": {
      "image/png": "[encoded data removed]",
      "text/plain": [
       "<Figure size 1000x800 with 2 Axes>"
      ]
     },
     "metadata": {},
     "output_type": "display_data"
    }
   ],
   "source": [
    "import seaborn as sns\n",
    "import matplotlib.pyplot as plt\n",
    "\n",
    "# Assuming df is your DataFrame containing the data\n",
    "\n",
    "# Convert 'verified' column to numeric (1 for True, 0 for False)\n",
    "df['verified'] = df['verified'].astype(int)\n",
    "\n",
    "# Select numeric columns for correlation analysis\n",
    "numeric_cols = ['overall', 'verified', 'unixReviewTime']\n",
    "\n",
    "# Compute correlation coefficients\n",
    "correlation_matrix = df[numeric_cols].corr()\n",
    "\n",
    "# Visualize correlations using a heatmap\n",
    "plt.figure(figsize=(10, 8))\n",
    "sns.heatmap(correlation_matrix, annot=True, cmap='coolwarm', fmt=\".2f\")\n",
    "plt.title(\"Correlation Heatmap\")\n",
    "plt.show()"
   ]
  },
  {
   "cell_type": "code",
   "execution_count": 21,
   "id": "f5318c75",
   "metadata": {},
   "outputs": [
    {
     "name": "stdout",
     "output_type": "stream",
     "text": [
      "The ASIN with the most reviews is: B000V0IBDM\n"
     ]
    }
   ],
   "source": [
    "# Find the ASIN with the most reviews\n",
    "most_reviews_asin = df['asin'].value_counts().idxmax()\n",
    "\n",
    "print(\"The ASIN with the most reviews is:\", most_reviews_asin)"
   ]
  },
  {
   "cell_type": "code",
   "execution_count": 22,
   "id": "fa788370",
   "metadata": {},
   "outputs": [
    {
     "name": "stdout",
     "output_type": "stream",
     "text": [
      "The reviewer with the most reviews is: gene\n",
      "Number of reviews: 5.0\n"
     ]
    }
   ],
   "source": [
    "# Sort the DataFrame by the number of reviews in descending order\n",
    "sorted_reviewers = average_rating_per_reviewer_sampled.sort_values(by='overall', ascending=False)\n",
    "\n",
    "# Get the reviewer with the most reviews\n",
    "most_reviews_reviewer = sorted_reviewers.iloc[0]\n",
    "\n",
    "# Find the corresponding name for the reviewer\n",
    "most_reviews_reviewer_name = sampled_df[sampled_df['reviewerID'] == most_reviews_reviewer['reviewerID']]['reviewerName'].iloc[0]\n",
    "\n",
    "print(\"The reviewer with the most reviews is:\", most_reviews_reviewer_name)\n",
    "print(\"Number of reviews:\", most_reviews_reviewer['overall'])"
   ]
  },
  {
   "cell_type": "code",
   "execution_count": 23,
   "id": "a58f44af",
   "metadata": {},
   "outputs": [
    {
     "name": "stdout",
     "output_type": "stream",
     "text": [
      "The year with the most reviews is: 2016\n",
      "Number of reviews in that year: 313629\n"
     ]
    }
   ],
   "source": [
    "# Group the data by year and count the number of reviews in each year\n",
    "reviews_per_year = df.groupby('year').size()\n",
    "\n",
    "# Find the year with the most reviews\n",
    "year_with_most_reviews = reviews_per_year.idxmax()\n",
    "num_reviews_most_year = reviews_per_year.max()\n",
    "\n",
    "print(\"The year with the most reviews is:\", year_with_most_reviews)\n",
    "print(\"Number of reviews in that year:\", num_reviews_most_year)"
   ]
  },
  {
   "cell_type": "code",
   "execution_count": 24,
   "id": "1fef5a18",
   "metadata": {},
   "outputs": [
    {
     "data": {
      "image/png": "[encoded data removed]",
      "text/plain": [
       "<Figure size 1000x600 with 1 Axes>"
      ]
     },
     "metadata": {},
     "output_type": "display_data"
    }
   ],
   "source": [
    "# Plotting the yearly distribution of reviews\n",
    "plt.figure(figsize=(10, 6))\n",
    "plt.bar(reviews_per_year.index, reviews_per_year.values, color='skyblue')\n",
    "plt.xlabel('Year')\n",
    "plt.ylabel('Number of Reviews')\n",
    "plt.title('Yearly Distribution of Reviews')\n",
    "plt.xticks(rotation=45)\n",
    "plt.tight_layout()\n",
    "plt.show()"
   ]
  },
  {
   "cell_type": "code",
   "execution_count": 25,
   "id": "6e590094",
   "metadata": {},
   "outputs": [
    {
     "name": "stdout",
     "output_type": "stream",
     "text": [
      "The month with the most reviews is: 1\n",
      "Number of reviews in that month: 86170\n"
     ]
    }
   ],
   "source": [
    "reviews_per_month = df.groupby('month').size()\n",
    "\n",
    "# Find the month with the most reviews\n",
    "month_with_most_reviews = reviews_per_month.idxmax()\n",
    "num_reviews_most_month = reviews_per_month.max()\n",
    "\n",
    "print(\"The month with the most reviews is:\", month_with_most_reviews)\n",
    "print(\"Number of reviews in that month:\", num_reviews_most_month)"
   ]
  },
  {
   "cell_type": "code",
   "execution_count": 26,
   "id": "9a2c63fa",
   "metadata": {},
   "outputs": [
    {
     "name": "stdout",
     "output_type": "stream",
     "text": [
      "Top Reviewers:\n",
      "            reviewerID  num_reviews\n",
      "484747  A3G5KDMFNRUXHB           40\n",
      "502369  A3JBQHQZEZPQK4           36\n",
      "152804  A1RRX286ZRI830           32\n",
      "336862  A2PBHVTPTIIGKR           31\n",
      "289496  A2GP4EJIAA2OE0           29\n",
      "105824  A1J7RPYGVGH5O3           27\n",
      "241356  A27WGWACHNQUR4           26\n",
      "410337  A32M3PMH6DSLKD           26\n",
      "669271   ALFRMOGTO1K4M           25\n",
      "737078   AXRC1EH0U2WZ9           24\n"
     ]
    }
   ],
   "source": [
    "# Group the data by reviewerID and count the number of reviews each reviewer has contributed\n",
    "reviews_per_reviewer = df.groupby('reviewerID').size().reset_index(name='num_reviews')\n",
    "\n",
    "# Sort the data to identify the top reviewers\n",
    "top_reviewers = reviews_per_reviewer.sort_values(by='num_reviews', ascending=False).head(10)  # Change '10' to the desired number of top reviewers\n",
    "\n",
    "# Display the top reviewers\n",
    "print(\"Top Reviewers:\")\n",
    "print(top_reviewers)"
   ]
  },
  {
   "cell_type": "code",
   "execution_count": 28,
   "id": "78e53fba",
   "metadata": {},
   "outputs": [
    {
     "name": "stdout",
     "output_type": "stream",
     "text": [
      "Top Reviewers with Names:\n",
      "       reviewerID                reviewerName  num_reviews\n",
      "0  A3G5KDMFNRUXHB  michelle williams brewster           40\n",
      "1  A3JBQHQZEZPQK4                   Cookie C.           36\n",
      "2  A1RRX286ZRI830                    Patrycja           32\n",
      "3  A2PBHVTPTIIGKR                T.T. da BOSS           31\n",
      "4  A2GP4EJIAA2OE0                          LJ           29\n",
      "5  A1J7RPYGVGH5O3                  shopaholic           27\n",
      "6  A27WGWACHNQUR4                   Miss Lisa           26\n",
      "7  A32M3PMH6DSLKD                      eunise           26\n",
      "8   ALFRMOGTO1K4M                rosie thomas           25\n",
      "9   AXRC1EH0U2WZ9                      sherry           24\n"
     ]
    }
   ],
   "source": [
    "# Assuming 'df' is your original DataFrame containing the data\n",
    "# Group the data by reviewerID and count the number of reviews each reviewer has contributed\n",
    "reviews_per_reviewer = df.groupby('reviewerID').size().reset_index(name='num_reviews')\n",
    "\n",
    "# Sort the data to identify the top reviewers\n",
    "top_reviewers = reviews_per_reviewer.sort_values(by='num_reviews', ascending=False).head(10)  # Change '10' to the desired number of top reviewers\n",
    "\n",
    "# Merge 'top_reviewers' with 'df' to get the names of the top reviewers\n",
    "top_reviewers_with_names = pd.merge(top_reviewers, df[['reviewerID', 'reviewerName']].drop_duplicates(), on='reviewerID', how='left')\n",
    "\n",
    "# Display the top reviewers with their names in one line\n",
    "print(\"Top Reviewers with Names:\")\n",
    "print(top_reviewers_with_names[['reviewerID', 'reviewerName', 'num_reviews']].drop_duplicates())"
   ]
  },
  {
   "cell_type": "code",
   "execution_count": 29,
   "id": "fb188de4",
   "metadata": {},
   "outputs": [
    {
     "name": "stdout",
     "output_type": "stream",
     "text": [
      "Products with Most Reviews:\n",
      "             asin  num_reviews\n",
      "3298   B000V0IBDM         4384\n",
      "2453   B000KPIHQ4         4375\n",
      "37176  B00I0VHS10         3889\n",
      "71375  B00RLSCLJM         3638\n",
      "2940   B000PHANNM         2572\n",
      "\n",
      "Products with Highest Average Ratings:\n",
      "             asin  avg_rating\n",
      "0      0764443682         5.0\n",
      "92972  B00Y88IVK6         5.0\n",
      "92994  B00Y8MUW7M         5.0\n",
      "92992  B00Y8LF6S8         5.0\n",
      "92990  B00Y8FXRX0         5.0\n",
      "\n",
      "Products with Most Variability in Ratings:\n",
      "              asin  rating_std\n",
      "181381  B01GREPK6Q    2.828427\n",
      "39890   B00IUGHKBI    2.828427\n",
      "39888   B00IUGHGLW    2.828427\n",
      "144405  B01AYCIAHS    2.828427\n",
      "10113   B0059R3Y9S    2.828427\n"
     ]
    }
   ],
   "source": [
    "# Count reviews per product (ASIN)\n",
    "reviews_per_product = df.groupby('asin').size().reset_index(name='num_reviews')\n",
    "\n",
    "# Calculate average ratings per product\n",
    "avg_ratings_per_product = df.groupby('asin')['overall'].mean().reset_index(name='avg_rating')\n",
    "\n",
    "# Measure variability in ratings (example using standard deviation)\n",
    "ratings_std_per_product = df.groupby('asin')['overall'].std().reset_index(name='rating_std')\n",
    "\n",
    "# Identify products with most reviews\n",
    "most_reviews = reviews_per_product.sort_values(by='num_reviews', ascending=False).head(5)  # Change '5' to the desired number of products\n",
    "\n",
    "# Identify products with highest average ratings\n",
    "highest_avg_ratings = avg_ratings_per_product.sort_values(by='avg_rating', ascending=False).head(5)  # Change '5' to the desired number of products\n",
    "\n",
    "# Identify products with most variability in ratings\n",
    "most_variability = ratings_std_per_product.sort_values(by='rating_std', ascending=False).head(5)  # Change '5' to the desired number of products\n",
    "\n",
    "# Display the results\n",
    "print(\"Products with Most Reviews:\")\n",
    "print(most_reviews)\n",
    "print(\"\\nProducts with Highest Average Ratings:\")\n",
    "print(highest_avg_ratings)\n",
    "print(\"\\nProducts with Most Variability in Ratings:\")\n",
    "print(most_variability)"
   ]
  },
  {
   "cell_type": "code",
   "execution_count": 30,
   "id": "7b2571df",
   "metadata": {},
   "outputs": [
    {
     "name": "stdout",
     "output_type": "stream",
     "text": [
      "Average Ratings - Verified Purchases: 3.9042740488404113\n",
      "Average Ratings - Non-Verified Purchases: 3.9471576533119754\n",
      "Review Counts - Verified Purchases: 828699\n",
      "Review Counts - Non-Verified Purchases: 54937\n"
     ]
    }
   ],
   "source": [
    "# Group data by verified and non-verified purchases\n",
    "grouped_verified = df[df['verified'] == True]\n",
    "grouped_non_verified = df[df['verified'] == False]\n",
    "\n",
    "# Calculate metrics\n",
    "avg_ratings_verified = grouped_verified['overall'].mean()\n",
    "avg_ratings_non_verified = grouped_non_verified['overall'].mean()\n",
    "review_counts_verified = grouped_verified.shape[0]\n",
    "review_counts_non_verified = grouped_non_verified.shape[0]\n",
    "\n",
    "# Compare metrics\n",
    "print(\"Average Ratings - Verified Purchases:\", avg_ratings_verified)\n",
    "print(\"Average Ratings - Non-Verified Purchases:\", avg_ratings_non_verified)\n",
    "print(\"Review Counts - Verified Purchases:\", review_counts_verified)\n",
    "print(\"Review Counts - Non-Verified Purchases:\", review_counts_non_verified)"
   ]
  },
  {
   "cell_type": "code",
   "execution_count": 31,
   "id": "2b1ee8a6",
   "metadata": {},
   "outputs": [
    {
     "name": "stdout",
     "output_type": "stream",
     "text": [
      "Average Ratings per Category:\n",
      "asin\n",
      "0764443682    5.000000\n",
      "1291691480    5.000000\n",
      "1940280001    5.000000\n",
      "1940735033    4.857143\n",
      "1940967805    5.000000\n",
      "                ...   \n",
      "B01HJGXL4O    5.000000\n",
      "B01HJGZVYW    4.000000\n",
      "B01HJH7JY6    5.000000\n",
      "B01HJHF97K    3.000000\n",
      "B01HJHTH5U    4.625000\n",
      "Name: overall, Length: 186189, dtype: float64\n",
      "\n",
      "Review Counts per Category:\n",
      "asin\n",
      "0764443682    1\n",
      "1291691480    1\n",
      "1940280001    1\n",
      "1940735033    7\n",
      "1940967805    1\n",
      "             ..\n",
      "B01HJGXL4O    1\n",
      "B01HJGZVYW    1\n",
      "B01HJH7JY6    1\n",
      "B01HJHF97K    1\n",
      "B01HJHTH5U    8\n",
      "Length: 186189, dtype: int64\n"
     ]
    }
   ],
   "source": [
    "# Group data by product categories (ASINs)\n",
    "grouped_categories = df.groupby('asin')\n",
    "\n",
    "# Calculate metrics\n",
    "avg_ratings_per_category = grouped_categories['overall'].mean()\n",
    "review_counts_per_category = grouped_categories.size()\n",
    "\n",
    "# Compare metrics\n",
    "print(\"Average Ratings per Category:\")\n",
    "print(avg_ratings_per_category)\n",
    "print(\"\\nReview Counts per Category:\")\n",
    "print(review_counts_per_category)"
   ]
  },
  {
   "cell_type": "code",
   "execution_count": 32,
   "id": "b4589906",
   "metadata": {},
   "outputs": [
    {
     "name": "stdout",
     "output_type": "stream",
     "text": [
      "Average Ratings - Top Reviewers: 4.108108108108108\n",
      "Average Ratings - Regular Reviewers: 3.9068727783186543\n",
      "Review Counts - Top Reviewers: 296\n",
      "Review Counts - Regular Reviewers: 883340\n"
     ]
    }
   ],
   "source": [
    "# Group data by specific groups of reviewers\n",
    "grouped_top_reviewers = df[df['reviewerID'].isin(top_reviewers['reviewerID'])]  # Assuming 'top_reviewers' contains top reviewer IDs\n",
    "grouped_regular_reviewers = df[~df['reviewerID'].isin(top_reviewers['reviewerID'])]\n",
    "\n",
    "# Calculate metrics\n",
    "avg_ratings_top_reviewers = grouped_top_reviewers['overall'].mean()\n",
    "avg_ratings_regular_reviewers = grouped_regular_reviewers['overall'].mean()\n",
    "review_counts_top_reviewers = grouped_top_reviewers.shape[0]\n",
    "review_counts_regular_reviewers = grouped_regular_reviewers.shape[0]\n",
    "\n",
    "# Compare metrics\n",
    "print(\"Average Ratings - Top Reviewers:\", avg_ratings_top_reviewers)\n",
    "print(\"Average Ratings - Regular Reviewers:\", avg_ratings_regular_reviewers)\n",
    "print(\"Review Counts - Top Reviewers:\", review_counts_top_reviewers)\n",
    "print(\"Review Counts - Regular Reviewers:\", review_counts_regular_reviewers)"
   ]
  },
  {
   "cell_type": "code",
   "execution_count": null,
   "id": "be525680",
   "metadata": {},
   "outputs": [],
   "source": []
  }
 ],
 "metadata": {
  "kernelspec": {
   "display_name": "Python 3 (ipykernel)",
   "language": "python",
   "name": "python3"
  },
  "language_info": {
   "codemirror_mode": {
    "name": "ipython",
    "version": 3
   },
   "file_extension": ".py",
   "mimetype": "text/x-python",
   "name": "python",
   "nbconvert_exporter": "python",
   "pygments_lexer": "ipython3",
   "version": "3.11.5"
  }
 },
 "nbformat": 4,
 "nbformat_minor": 5
}
